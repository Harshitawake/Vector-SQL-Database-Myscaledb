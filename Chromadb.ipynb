{
 "cells": [
  {
   "cell_type": "code",
   "execution_count": 1,
   "id": "e38e1f15-f613-4132-9b4b-efb2d09691d3",
   "metadata": {
    "jupyter": {
     "source_hidden": true
    }
   },
   "outputs": [],
   "source": [
    "import pandas as pd"
   ]
  },
  {
   "cell_type": "markdown",
   "id": "d7e919d3-056f-4dc9-905e-29db581f5ae8",
   "metadata": {},
   "source": [
    "# Load the Dataframe with Embeddings"
   ]
  },
  {
   "cell_type": "code",
   "execution_count": 2,
   "id": "8258ff22-c44c-4acd-bd56-0ce4388bc256",
   "metadata": {},
   "outputs": [],
   "source": [
    "df=pd.read_csv('outputfull1.csv')"
   ]
  },
  {
   "cell_type": "code",
   "execution_count": 3,
   "id": "83d58927-ed3d-4b3b-90db-0088d7afd75f",
   "metadata": {},
   "outputs": [
    {
     "name": "stdout",
     "output_type": "stream",
     "text": [
      "<class 'pandas.core.frame.DataFrame'>\n",
      "RangeIndex: 57652 entries, 0 to 57651\n",
      "Data columns (total 15 columns):\n",
      " #   Column                     Non-Null Count  Dtype  \n",
      "---  ------                     --------------  -----  \n",
      " 0   Unnamed: 0                 57652 non-null  int64  \n",
      " 1   appBetLogID                57652 non-null  int64  \n",
      " 2   appDescription             57652 non-null  object \n",
      " 3   appLogCode                 57652 non-null  int64  \n",
      " 4   appClientID                57652 non-null  int64  \n",
      " 5   appBetID                   57652 non-null  int64  \n",
      " 6   appBetDetailID             55414 non-null  float64\n",
      " 7   appIsBack                  55414 non-null  float64\n",
      " 8   appRate                    57652 non-null  float64\n",
      " 9   appStake                   57652 non-null  int64  \n",
      " 10  appPlaceBetInfo            55408 non-null  object \n",
      " 11  appIsMasterLimit           55414 non-null  float64\n",
      " 12  appCreatedBy               57652 non-null  int64  \n",
      " 13  appDescription_embedding   57652 non-null  object \n",
      " 14  appPlaceBetInfo_embedding  57652 non-null  object \n",
      "dtypes: float64(4), int64(7), object(4)\n",
      "memory usage: 6.6+ MB\n"
     ]
    }
   ],
   "source": [
    "df.info()"
   ]
  },
  {
   "cell_type": "code",
   "execution_count": 4,
   "id": "5e417736-9d23-4044-9d54-c9d669de3e8f",
   "metadata": {},
   "outputs": [],
   "source": [
    "df.drop(columns=['Unnamed: 0'],inplace=True)"
   ]
  },
  {
   "cell_type": "code",
   "execution_count": 5,
   "id": "01e88d7d-dccb-4707-9c9a-84662658eea4",
   "metadata": {},
   "outputs": [
    {
     "data": {
      "text/html": [
       "<div>\n",
       "<style scoped>\n",
       "    .dataframe tbody tr th:only-of-type {\n",
       "        vertical-align: middle;\n",
       "    }\n",
       "\n",
       "    .dataframe tbody tr th {\n",
       "        vertical-align: top;\n",
       "    }\n",
       "\n",
       "    .dataframe thead th {\n",
       "        text-align: right;\n",
       "    }\n",
       "</style>\n",
       "<table border=\"1\" class=\"dataframe\">\n",
       "  <thead>\n",
       "    <tr style=\"text-align: right;\">\n",
       "      <th></th>\n",
       "      <th>appBetLogID</th>\n",
       "      <th>appDescription</th>\n",
       "      <th>appLogCode</th>\n",
       "      <th>appClientID</th>\n",
       "      <th>appBetID</th>\n",
       "      <th>appBetDetailID</th>\n",
       "      <th>appIsBack</th>\n",
       "      <th>appRate</th>\n",
       "      <th>appStake</th>\n",
       "      <th>appPlaceBetInfo</th>\n",
       "      <th>appIsMasterLimit</th>\n",
       "      <th>appCreatedBy</th>\n",
       "      <th>appDescription_embedding</th>\n",
       "      <th>appPlaceBetInfo_embedding</th>\n",
       "    </tr>\n",
       "  </thead>\n",
       "  <tbody>\n",
       "    <tr>\n",
       "      <th>0</th>\n",
       "      <td>1</td>\n",
       "      <td>Rate Exposure limits. : Applied Rate : 100.000...</td>\n",
       "      <td>1008</td>\n",
       "      <td>58069</td>\n",
       "      <td>919549</td>\n",
       "      <td>3050839.0</td>\n",
       "      <td>1.0</td>\n",
       "      <td>1.04</td>\n",
       "      <td>100</td>\n",
       "      <td>::IP=49.36.90.32::browser=Chrome:: device=Desk...</td>\n",
       "      <td>0.0</td>\n",
       "      <td>58069</td>\n",
       "      <td>[0.03625035, 0.041096795, -0.03554625, -0.0019...</td>\n",
       "      <td>[0.027627677, 0.011859781, -0.01049815, -0.083...</td>\n",
       "    </tr>\n",
       "    <tr>\n",
       "      <th>1</th>\n",
       "      <td>2</td>\n",
       "      <td>Market Rate not valid, please contact to Upline.</td>\n",
       "      <td>1022</td>\n",
       "      <td>58069</td>\n",
       "      <td>923124</td>\n",
       "      <td>3058974.0</td>\n",
       "      <td>0.0</td>\n",
       "      <td>84.00</td>\n",
       "      <td>100</td>\n",
       "      <td>::IP=49.36.90.32::browser=Chrome:: device=Desk...</td>\n",
       "      <td>0.0</td>\n",
       "      <td>58069</td>\n",
       "      <td>[-0.042841498, -0.07839391, -0.08547039, -0.03...</td>\n",
       "      <td>[0.027627695, 0.011859814, -0.010498139, -0.08...</td>\n",
       "    </tr>\n",
       "    <tr>\n",
       "      <th>2</th>\n",
       "      <td>3</td>\n",
       "      <td>Ball Started.</td>\n",
       "      <td>1023</td>\n",
       "      <td>58069</td>\n",
       "      <td>923024</td>\n",
       "      <td>3058763.0</td>\n",
       "      <td>0.0</td>\n",
       "      <td>1.00</td>\n",
       "      <td>100</td>\n",
       "      <td>::IP=49.36.90.32::browser=Chrome:: device=Desk...</td>\n",
       "      <td>0.0</td>\n",
       "      <td>58069</td>\n",
       "      <td>[0.065532066, 0.037301224, -0.015913386, -0.01...</td>\n",
       "      <td>[0.027627695, 0.011859814, -0.010498139, -0.08...</td>\n",
       "    </tr>\n",
       "    <tr>\n",
       "      <th>3</th>\n",
       "      <td>4</td>\n",
       "      <td>Market Rate not valid, please contact to Upline.</td>\n",
       "      <td>1022</td>\n",
       "      <td>58069</td>\n",
       "      <td>919549</td>\n",
       "      <td>3050839.0</td>\n",
       "      <td>1.0</td>\n",
       "      <td>1.04</td>\n",
       "      <td>100</td>\n",
       "      <td>::IP=49.36.90.32::browser=Chrome:: device=Desk...</td>\n",
       "      <td>0.0</td>\n",
       "      <td>58069</td>\n",
       "      <td>[-0.042841498, -0.07839391, -0.08547039, -0.03...</td>\n",
       "      <td>[0.027627695, 0.011859814, -0.010498139, -0.08...</td>\n",
       "    </tr>\n",
       "    <tr>\n",
       "      <th>4</th>\n",
       "      <td>5</td>\n",
       "      <td>Ball Started.</td>\n",
       "      <td>1023</td>\n",
       "      <td>58069</td>\n",
       "      <td>923014</td>\n",
       "      <td>3058748.0</td>\n",
       "      <td>0.0</td>\n",
       "      <td>72.00</td>\n",
       "      <td>100</td>\n",
       "      <td>::IP=49.36.90.32::browser=Chrome:: device=Desk...</td>\n",
       "      <td>0.0</td>\n",
       "      <td>58069</td>\n",
       "      <td>[0.065532066, 0.037301224, -0.015913386, -0.01...</td>\n",
       "      <td>[0.027627695, 0.011859814, -0.010498139, -0.08...</td>\n",
       "    </tr>\n",
       "  </tbody>\n",
       "</table>\n",
       "</div>"
      ],
      "text/plain": [
       "   appBetLogID                                     appDescription  appLogCode  \\\n",
       "0            1  Rate Exposure limits. : Applied Rate : 100.000...        1008   \n",
       "1            2   Market Rate not valid, please contact to Upline.        1022   \n",
       "2            3                                      Ball Started.        1023   \n",
       "3            4   Market Rate not valid, please contact to Upline.        1022   \n",
       "4            5                                      Ball Started.        1023   \n",
       "\n",
       "   appClientID  appBetID  appBetDetailID  appIsBack  appRate  appStake  \\\n",
       "0        58069    919549       3050839.0        1.0     1.04       100   \n",
       "1        58069    923124       3058974.0        0.0    84.00       100   \n",
       "2        58069    923024       3058763.0        0.0     1.00       100   \n",
       "3        58069    919549       3050839.0        1.0     1.04       100   \n",
       "4        58069    923014       3058748.0        0.0    72.00       100   \n",
       "\n",
       "                                     appPlaceBetInfo  appIsMasterLimit  \\\n",
       "0  ::IP=49.36.90.32::browser=Chrome:: device=Desk...               0.0   \n",
       "1  ::IP=49.36.90.32::browser=Chrome:: device=Desk...               0.0   \n",
       "2  ::IP=49.36.90.32::browser=Chrome:: device=Desk...               0.0   \n",
       "3  ::IP=49.36.90.32::browser=Chrome:: device=Desk...               0.0   \n",
       "4  ::IP=49.36.90.32::browser=Chrome:: device=Desk...               0.0   \n",
       "\n",
       "   appCreatedBy                           appDescription_embedding  \\\n",
       "0         58069  [0.03625035, 0.041096795, -0.03554625, -0.0019...   \n",
       "1         58069  [-0.042841498, -0.07839391, -0.08547039, -0.03...   \n",
       "2         58069  [0.065532066, 0.037301224, -0.015913386, -0.01...   \n",
       "3         58069  [-0.042841498, -0.07839391, -0.08547039, -0.03...   \n",
       "4         58069  [0.065532066, 0.037301224, -0.015913386, -0.01...   \n",
       "\n",
       "                           appPlaceBetInfo_embedding  \n",
       "0  [0.027627677, 0.011859781, -0.01049815, -0.083...  \n",
       "1  [0.027627695, 0.011859814, -0.010498139, -0.08...  \n",
       "2  [0.027627695, 0.011859814, -0.010498139, -0.08...  \n",
       "3  [0.027627695, 0.011859814, -0.010498139, -0.08...  \n",
       "4  [0.027627695, 0.011859814, -0.010498139, -0.08...  "
      ]
     },
     "execution_count": 5,
     "metadata": {},
     "output_type": "execute_result"
    }
   ],
   "source": [
    "df.head()"
   ]
  },
  {
   "cell_type": "code",
   "execution_count": 6,
   "id": "1544df4b-f385-47c1-a7d2-6eddf1132d4f",
   "metadata": {},
   "outputs": [],
   "source": [
    "df1=df.head(1000)"
   ]
  },
  {
   "cell_type": "code",
   "execution_count": 7,
   "id": "59336d84-501c-4970-a3b8-6d45ea54da55",
   "metadata": {
    "scrolled": true
   },
   "outputs": [
    {
     "data": {
      "text/html": [
       "<div>\n",
       "<style scoped>\n",
       "    .dataframe tbody tr th:only-of-type {\n",
       "        vertical-align: middle;\n",
       "    }\n",
       "\n",
       "    .dataframe tbody tr th {\n",
       "        vertical-align: top;\n",
       "    }\n",
       "\n",
       "    .dataframe thead th {\n",
       "        text-align: right;\n",
       "    }\n",
       "</style>\n",
       "<table border=\"1\" class=\"dataframe\">\n",
       "  <thead>\n",
       "    <tr style=\"text-align: right;\">\n",
       "      <th></th>\n",
       "      <th>appBetLogID</th>\n",
       "      <th>appDescription</th>\n",
       "      <th>appLogCode</th>\n",
       "      <th>appClientID</th>\n",
       "      <th>appBetID</th>\n",
       "      <th>appBetDetailID</th>\n",
       "      <th>appIsBack</th>\n",
       "      <th>appRate</th>\n",
       "      <th>appStake</th>\n",
       "      <th>appPlaceBetInfo</th>\n",
       "      <th>appIsMasterLimit</th>\n",
       "      <th>appCreatedBy</th>\n",
       "      <th>appDescription_embedding</th>\n",
       "      <th>appPlaceBetInfo_embedding</th>\n",
       "    </tr>\n",
       "  </thead>\n",
       "  <tbody>\n",
       "    <tr>\n",
       "      <th>0</th>\n",
       "      <td>1</td>\n",
       "      <td>Rate Exposure limits. : Applied Rate : 100.000...</td>\n",
       "      <td>1008</td>\n",
       "      <td>58069</td>\n",
       "      <td>919549</td>\n",
       "      <td>3050839.0</td>\n",
       "      <td>1.0</td>\n",
       "      <td>1.04</td>\n",
       "      <td>100</td>\n",
       "      <td>::IP=49.36.90.32::browser=Chrome:: device=Desk...</td>\n",
       "      <td>0.0</td>\n",
       "      <td>58069</td>\n",
       "      <td>[0.03625035, 0.041096795, -0.03554625, -0.0019...</td>\n",
       "      <td>[0.027627677, 0.011859781, -0.01049815, -0.083...</td>\n",
       "    </tr>\n",
       "    <tr>\n",
       "      <th>1</th>\n",
       "      <td>2</td>\n",
       "      <td>Market Rate not valid, please contact to Upline.</td>\n",
       "      <td>1022</td>\n",
       "      <td>58069</td>\n",
       "      <td>923124</td>\n",
       "      <td>3058974.0</td>\n",
       "      <td>0.0</td>\n",
       "      <td>84.00</td>\n",
       "      <td>100</td>\n",
       "      <td>::IP=49.36.90.32::browser=Chrome:: device=Desk...</td>\n",
       "      <td>0.0</td>\n",
       "      <td>58069</td>\n",
       "      <td>[-0.042841498, -0.07839391, -0.08547039, -0.03...</td>\n",
       "      <td>[0.027627695, 0.011859814, -0.010498139, -0.08...</td>\n",
       "    </tr>\n",
       "    <tr>\n",
       "      <th>2</th>\n",
       "      <td>3</td>\n",
       "      <td>Ball Started.</td>\n",
       "      <td>1023</td>\n",
       "      <td>58069</td>\n",
       "      <td>923024</td>\n",
       "      <td>3058763.0</td>\n",
       "      <td>0.0</td>\n",
       "      <td>1.00</td>\n",
       "      <td>100</td>\n",
       "      <td>::IP=49.36.90.32::browser=Chrome:: device=Desk...</td>\n",
       "      <td>0.0</td>\n",
       "      <td>58069</td>\n",
       "      <td>[0.065532066, 0.037301224, -0.015913386, -0.01...</td>\n",
       "      <td>[0.027627695, 0.011859814, -0.010498139, -0.08...</td>\n",
       "    </tr>\n",
       "    <tr>\n",
       "      <th>3</th>\n",
       "      <td>4</td>\n",
       "      <td>Market Rate not valid, please contact to Upline.</td>\n",
       "      <td>1022</td>\n",
       "      <td>58069</td>\n",
       "      <td>919549</td>\n",
       "      <td>3050839.0</td>\n",
       "      <td>1.0</td>\n",
       "      <td>1.04</td>\n",
       "      <td>100</td>\n",
       "      <td>::IP=49.36.90.32::browser=Chrome:: device=Desk...</td>\n",
       "      <td>0.0</td>\n",
       "      <td>58069</td>\n",
       "      <td>[-0.042841498, -0.07839391, -0.08547039, -0.03...</td>\n",
       "      <td>[0.027627695, 0.011859814, -0.010498139, -0.08...</td>\n",
       "    </tr>\n",
       "    <tr>\n",
       "      <th>4</th>\n",
       "      <td>5</td>\n",
       "      <td>Ball Started.</td>\n",
       "      <td>1023</td>\n",
       "      <td>58069</td>\n",
       "      <td>923014</td>\n",
       "      <td>3058748.0</td>\n",
       "      <td>0.0</td>\n",
       "      <td>72.00</td>\n",
       "      <td>100</td>\n",
       "      <td>::IP=49.36.90.32::browser=Chrome:: device=Desk...</td>\n",
       "      <td>0.0</td>\n",
       "      <td>58069</td>\n",
       "      <td>[0.065532066, 0.037301224, -0.015913386, -0.01...</td>\n",
       "      <td>[0.027627695, 0.011859814, -0.010498139, -0.08...</td>\n",
       "    </tr>\n",
       "  </tbody>\n",
       "</table>\n",
       "</div>"
      ],
      "text/plain": [
       "   appBetLogID                                     appDescription  appLogCode  \\\n",
       "0            1  Rate Exposure limits. : Applied Rate : 100.000...        1008   \n",
       "1            2   Market Rate not valid, please contact to Upline.        1022   \n",
       "2            3                                      Ball Started.        1023   \n",
       "3            4   Market Rate not valid, please contact to Upline.        1022   \n",
       "4            5                                      Ball Started.        1023   \n",
       "\n",
       "   appClientID  appBetID  appBetDetailID  appIsBack  appRate  appStake  \\\n",
       "0        58069    919549       3050839.0        1.0     1.04       100   \n",
       "1        58069    923124       3058974.0        0.0    84.00       100   \n",
       "2        58069    923024       3058763.0        0.0     1.00       100   \n",
       "3        58069    919549       3050839.0        1.0     1.04       100   \n",
       "4        58069    923014       3058748.0        0.0    72.00       100   \n",
       "\n",
       "                                     appPlaceBetInfo  appIsMasterLimit  \\\n",
       "0  ::IP=49.36.90.32::browser=Chrome:: device=Desk...               0.0   \n",
       "1  ::IP=49.36.90.32::browser=Chrome:: device=Desk...               0.0   \n",
       "2  ::IP=49.36.90.32::browser=Chrome:: device=Desk...               0.0   \n",
       "3  ::IP=49.36.90.32::browser=Chrome:: device=Desk...               0.0   \n",
       "4  ::IP=49.36.90.32::browser=Chrome:: device=Desk...               0.0   \n",
       "\n",
       "   appCreatedBy                           appDescription_embedding  \\\n",
       "0         58069  [0.03625035, 0.041096795, -0.03554625, -0.0019...   \n",
       "1         58069  [-0.042841498, -0.07839391, -0.08547039, -0.03...   \n",
       "2         58069  [0.065532066, 0.037301224, -0.015913386, -0.01...   \n",
       "3         58069  [-0.042841498, -0.07839391, -0.08547039, -0.03...   \n",
       "4         58069  [0.065532066, 0.037301224, -0.015913386, -0.01...   \n",
       "\n",
       "                           appPlaceBetInfo_embedding  \n",
       "0  [0.027627677, 0.011859781, -0.01049815, -0.083...  \n",
       "1  [0.027627695, 0.011859814, -0.010498139, -0.08...  \n",
       "2  [0.027627695, 0.011859814, -0.010498139, -0.08...  \n",
       "3  [0.027627695, 0.011859814, -0.010498139, -0.08...  \n",
       "4  [0.027627695, 0.011859814, -0.010498139, -0.08...  "
      ]
     },
     "execution_count": 7,
     "metadata": {},
     "output_type": "execute_result"
    }
   ],
   "source": [
    "df1.head()"
   ]
  },
  {
   "cell_type": "code",
   "execution_count": 8,
   "id": "69eab15c-bce2-43c3-b4bb-227c313c5a52",
   "metadata": {
    "scrolled": true
   },
   "outputs": [
    {
     "data": {
      "text/plain": [
       "Index(['appBetLogID', 'appDescription', 'appLogCode', 'appClientID',\n",
       "       'appBetID', 'appBetDetailID', 'appIsBack', 'appRate', 'appStake',\n",
       "       'appPlaceBetInfo', 'appIsMasterLimit', 'appCreatedBy',\n",
       "       'appDescription_embedding', 'appPlaceBetInfo_embedding'],\n",
       "      dtype='object')"
      ]
     },
     "execution_count": 8,
     "metadata": {},
     "output_type": "execute_result"
    }
   ],
   "source": [
    "df1.columns"
   ]
  },
  {
   "cell_type": "markdown",
   "id": "06f21444-4699-46d4-8020-579052a08540",
   "metadata": {},
   "source": [
    "# ChrmaDB - Vector Database to store the Embeddings"
   ]
  },
  {
   "cell_type": "code",
   "execution_count": 3,
   "id": "cc3c130c-1acb-43eb-a7f0-9377505db2ab",
   "metadata": {},
   "outputs": [],
   "source": [
    "# Rest columns are stored as Metadata"
   ]
  },
  {
   "cell_type": "code",
   "execution_count": 9,
   "id": "44890b95-87ca-4ceb-a61d-bbb6076ccd47",
   "metadata": {},
   "outputs": [],
   "source": [
    "import chromadb\n",
    "from chromadb.config import Settings\n",
    "\n",
    "\n",
    "client=chromadb.Client(Settings())\n",
    "\n",
    "\n",
    "collection_name='my_embeddings_collection'\n",
    "collection=client.create_collection(collection_name)\n",
    "\n",
    "ids=[]\n",
    "documents=[]\n",
    "metadatas=[]\n",
    "\n",
    "for _, row in df1.iterrows():\n",
    "    ids.append(str(row['appBetLogID']))  # Ensure the ID is a string\n",
    "    documents.append(row['appDescription_embedding'])\n",
    "    metadatas.append({\n",
    "        'appDescription':row['appDescription'],\n",
    "        'appLogCode': row['appLogCode'],\n",
    "        'appClientID':row['appClientID'],\n",
    "       'appBetID':row['appBetID'],\n",
    "        'appBetDetailID':row['appBetDetailID'],\n",
    "        'appIsBack':row['appIsBack'],\n",
    "        'appRate':row['appRate'],\n",
    "        'appStake':row['appStake'],\n",
    "       'appPlaceBetInfo':row['appPlaceBetInfo'],\n",
    "        'appIsMasterLimit':row['appIsMasterLimit'],\n",
    "        'appCreatedBy':row['appCreatedBy']\n",
    "        \n",
    "    })\n",
    "\n",
    "# Insert the records into the ChromaDB collection\n",
    "collection.add(ids=ids, documents=documents, metadatas=metadatas)\n"
   ]
  },
  {
   "cell_type": "code",
   "execution_count": 10,
   "id": "d416c6d8-dcfb-41fb-992c-a4d17e6406af",
   "metadata": {},
   "outputs": [],
   "source": [
    "from sentence_transformers import SentenceTransformer"
   ]
  },
  {
   "cell_type": "code",
   "execution_count": 11,
   "id": "3e784bfb-42c9-4af3-bc95-2d8a528a38c2",
   "metadata": {},
   "outputs": [
    {
     "name": "stderr",
     "output_type": "stream",
     "text": [
      "C:\\Users\\harsh\\anaconda3\\Lib\\site-packages\\huggingface_hub\\file_download.py:1132: FutureWarning: `resume_download` is deprecated and will be removed in version 1.0.0. Downloads always resume when possible. If you want to force a new download, use `force_download=True`.\n",
      "  warnings.warn(\n"
     ]
    }
   ],
   "source": [
    "model = SentenceTransformer('all-MiniLM-L6-v2')"
   ]
  },
  {
   "cell_type": "markdown",
   "id": "4a0dce70-49f5-4c84-8fc4-fcc7d1a75d45",
   "metadata": {},
   "source": [
    "# Query Embedding"
   ]
  },
  {
   "cell_type": "code",
   "execution_count": 14,
   "id": "92f8cdc9-3399-487f-a026-d9d313607c6b",
   "metadata": {},
   "outputs": [
    {
     "name": "stderr",
     "output_type": "stream",
     "text": [
      "C:\\Users\\harsh\\anaconda3\\Lib\\site-packages\\transformers\\models\\bert\\modeling_bert.py:435: UserWarning: 1Torch was not compiled with flash attention. (Triggered internally at ..\\aten\\src\\ATen\\native\\transformers\\cuda\\sdp_utils.cpp:455.)\n",
      "  attn_output = torch.nn.functional.scaled_dot_product_attention(\n"
     ]
    }
   ],
   "source": [
    "query='Rate Exposure Limits: What is the applied rate?'\n",
    "query_embeddings=model.encode(query)"
   ]
  },
  {
   "cell_type": "code",
   "execution_count": 15,
   "id": "436917dc-c921-4958-b9e7-896e519aec69",
   "metadata": {},
   "outputs": [],
   "source": [
    "query_embeddings=query_embeddings.tolist()"
   ]
  },
  {
   "cell_type": "code",
   "execution_count": 26,
   "id": "52488de5-80a5-4d65-9e61-2998b92c9a95",
   "metadata": {},
   "outputs": [
    {
     "data": {
      "text/plain": [
       "384"
      ]
     },
     "execution_count": 26,
     "metadata": {},
     "output_type": "execute_result"
    }
   ],
   "source": [
    "len(query_embeddings)"
   ]
  },
  {
   "cell_type": "markdown",
   "id": "21d96d99-222c-4f3d-a7e3-4a67a1e12a1a",
   "metadata": {},
   "source": [
    "# Querying in Vector DB"
   ]
  },
  {
   "cell_type": "code",
   "execution_count": 17,
   "id": "40b4dacd-f2b5-4a82-8175-ff76a10c849e",
   "metadata": {},
   "outputs": [
    {
     "name": "stdout",
     "output_type": "stream",
     "text": [
      "[['288']]\n",
      "[[{'appBetDetailID': 3343996.0, 'appBetID': 1035560, 'appClientID': 58175, 'appCreatedBy': 58175, 'appDescription': 'Odds between 20 and 30 must be in increments of 2 , Applied rate :49.970', 'appIsBack': 1.0, 'appIsMasterLimit': 0.0, 'appLogCode': 1007, 'appPlaceBetInfo': '::IP=116.72.46.201::strModel:xiaomi - Redmi Note 5 Pro,strImeino:863731045815962,strPhone:GSM - Vi India - ,strIpAdd:,strAddress:Bhathena Canal Junction, Nehru Nagar, Surat, Gujarat 395002, India,strLatitude:21.18189145,strLongitude:72.84108879 | okhttp-4.9.0 :: 116.72.46.201', 'appRate': 49.97, 'appStake': 100}]]\n"
     ]
    }
   ],
   "source": [
    "\n",
    "results=collection.query(\n",
    "    query_embeddings=query_embeddings,\n",
    "    n_results=5)\n",
    "\n",
    "\n",
    "#print((results))\n",
    "print(results['ids'])\n",
    "print(results['metadatas'])"
   ]
  },
  {
   "cell_type": "markdown",
   "id": "90bc4e54-20b8-4c52-bcb9-d3de352110e1",
   "metadata": {},
   "source": [
    "# Applying Filter condition on metadata columns "
   ]
  },
  {
   "cell_type": "code",
   "execution_count": 19,
   "id": "65fadad4-ba2b-46ab-a96d-beebbd0c2a47",
   "metadata": {},
   "outputs": [
    {
     "name": "stdout",
     "output_type": "stream",
     "text": [
      "{'ids': [['9']], 'distances': [[1.8272943496704102]], 'metadatas': [[{'appBetDetailID': 3058766.0, 'appBetID': 923027, 'appClientID': 58070, 'appCreatedBy': 58070, 'appDescription': 'Ball Started.', 'appIsBack': 0.0, 'appIsMasterLimit': 0.0, 'appLogCode': 1023, 'appPlaceBetInfo': '::IP=49.36.90.32::browser=Chrome:: device=Desktop:: os=Windows:: latitude=0 :: longitude=0 | Mozilla-5.0 (Windows NT 10.0; Win64; x64) AppleWebKit-537.36 (KHTML, like Gecko) Chrome-121.0.0.0 Safari-537.36 :: 49.36.90.32', 'appRate': 1.0, 'appStake': 100}]], 'embeddings': None, 'documents': [['[0.065532066, 0.037301224, -0.015913386, -0.015381232, 0.028747719, 0.057618722, 0.026141865, 0.032119595, 0.08432861, 0.05295276, -0.010606013, 0.054076593, -0.049149536, 0.05407562, 0.042200644, 0.017542519, -0.07094895, -0.12413389, -0.059273213, -0.017984286, -0.0138094425, 0.09417563, 0.026068471, -0.04579457, -0.010185662, 0.07805609, 0.057158332, 0.01821298, -0.0076007876, -0.063058615, -0.024032576, -0.10600619, 0.02909692, 0.03728619, -0.07755333, 0.05412237, -0.012865874, 0.0036776338, 0.039884027, 0.044452876, 0.02933383, -0.17280862, -0.012917454, 0.07225926, -0.0035721138, 0.09541882, 0.024428777, 0.003906329, 0.07989503, 0.03675976, -0.0071800454, 0.014011614, 0.010816663, -0.017825048, 0.11636839, 0.09094951, 0.032779835, 0.052530684, 0.0424216, -0.048752144, -0.047176022, -0.013383332, -0.07415059, 0.022496, -0.015466557, -0.077052936, -0.027513126, -0.008914519, 0.021924777, 0.0045528915, 0.07443537, 0.068246715, 0.022486482, -0.029664107, 0.018779172, 0.009583083, -0.0035739965, -0.016064823, 0.05216709, -0.00058141473, -0.05543868, -0.06340671, -0.043816272, 0.066406, -0.0527588, 0.04010293, 0.021116553, 0.041691646, -0.009312533, 0.051118042, -0.045939233, 0.008770498, -0.016761744, 0.064926155, -0.052463785, 0.034156777, -0.0062164227, -0.088630535, 0.05479493, 0.11280054, -0.019150972, 0.04765767, 0.05928008, 0.06817347, 0.036953587, -0.021637835, -0.030406216, 0.016163053, 0.0012268954, 0.013245046, 0.038106404, -0.042697385, -0.00540479, 0.111254, -0.027588833, 0.00441875, -0.014222185, 0.029415946, -0.010430212, -0.05632117, 0.11479686, -0.008654957, -0.05730757, 0.021252126, -0.10146162, 0.02937088, 0.02038765, -8.276428e-33, -0.008288851, -0.099099785, 0.04465182, 0.12679175, -0.045745768, 0.030895207, -0.05546448, 0.028211378, -0.0051848935, -0.02805412, -0.038948964, -0.020143751, -0.019805793, -0.0992476, 0.05632736, -0.08838689, -0.036676064, -0.025367774, -0.02334281, 0.039383277, -0.0076038465, -0.0970289, -0.024532657, -0.035860125, -0.08696569, 0.03717456, -0.011074475, -0.061903402, 0.007999886, -0.017643059, 0.07575451, -0.06776849, -0.08100453, 0.053635355, -0.041067697, -0.057194594, -0.023995603, -0.019164152, -0.046933506, -0.10680992, -0.017766759, -0.010786165, -0.069301724, -0.06424475, -0.02345175, -0.037967015, -0.035180215, -0.0070334, 0.005548693, 0.0012405993, 0.065248184, -0.0046605724, 0.08862017, 0.012266584, -0.032072067, -0.027919728, -0.07288438, -0.008926953, -0.055030975, -0.02345343, 0.09247593, 0.04826293, 0.027616065, 0.05932516, -0.034242176, 0.0069407914, 0.060499046, -0.00808075, -0.034077607, 0.015610808, 0.018568859, 0.009203523, 0.009058546, -0.008889997, -0.01706145, 0.08046922, 0.0010807853, 0.056319993, -0.007948664, -0.0024558075, 0.0038383824, -0.0669904, 0.03849857, -0.09097788, -0.040025573, 0.076437674, -0.025252372, 0.007388116, -0.07801401, -0.02724002, -0.065539956, 0.04849456, -0.0044074217, 0.085342765, -0.058566336, 5.7008574e-33, 0.007394518, -0.0006614826, -0.047814596, 0.06757912, 0.028188072, -0.011613949, 0.03741342, 0.03282516, -0.046518203, 0.058737244, 0.03308643, -0.036597293, -0.020677716, 0.0031397138, 0.03279367, -0.0073812716, 0.066512056, 0.07156937, 0.020634076, 0.08711927, 0.016146887, -0.029776122, -0.015229015, -0.055487607, -0.09212779, 0.066613235, 0.049556855, 0.008415924, -0.15177296, 0.057629824, 0.088751465, 0.012014578, 0.060539927, 0.04934098, -0.11721761, 0.04107417, -0.0042968625, -0.025966365, 0.06431725, 0.030180965, 0.08642596, 0.03727393, -0.00013226067, 0.1309583, -0.00037482323, -0.041285295, 0.03641739, 0.016006501, -0.027732437, 0.03980383, -0.09891637, 0.03359118, 0.030349055, -0.058334373, 0.014404344, 0.0076742438, -0.0017740087, 0.024935728, -0.038219135, -0.051918395, -0.040223215, 0.05011044, -0.032731242, 0.008142907, 0.021373168, 0.08653813, -0.06749088, 0.0015460742, -0.029480333, -0.06915971, -0.030440599, 0.033833776, -0.02267334, -0.006496253, -0.03709867, 0.048698347, 0.016935717, -0.016601512, 0.039976154, -0.0010005645, -0.1176259, -0.028469333, -0.06545228, 0.07132827, 0.089923754, 0.00012859405, -0.0085779885, -0.043639403, -0.060109336, 0.07053156, -0.022589311, 0.037354857, 0.100012906, 0.05201833, -0.020153798, -1.4241094e-08, -0.05945569, 0.014043422, -0.007878551, 0.025215512, 0.05179595, 0.043286543, 0.015678603, -0.014189769, 0.048821118, -0.10652119, -0.053172335, 0.0045935456, 0.02052002, 0.03095231, 0.009121463, 0.035735022, -0.06416146, 0.016481359, -0.022464572, 0.10358237, -0.04623241, -0.032643802, -0.055220354, 0.019644719, 0.05691015, 0.0044084727, -0.06387566, 0.016494228, 0.02866418, -0.078777336, 0.064070106, 0.07999201, 0.026729906, -0.036609992, -0.05947606, 0.034040794, 0.03332988, -0.030223664, 0.033263016, -0.08727336, 0.017628167, 0.12340405, -0.035390258, -0.07708377, -0.0019034705, -0.028807826, -0.045973063, -0.0032996158, -0.08409164, 0.0032758308, -0.031211143, 0.074950136, 0.036740996, -0.047038723, 0.09199198, -0.032270208, -0.041707367, 0.0028348009, -0.033709913, 0.04829626, -0.016332014, -0.01734957, 0.033181205, 0.026080329]']], 'uris': None, 'data': None, 'included': ['metadatas', 'documents', 'distances']}\n",
      "[['9']]\n",
      "[[{'appBetDetailID': 3058766.0, 'appBetID': 923027, 'appClientID': 58070, 'appCreatedBy': 58070, 'appDescription': 'Ball Started.', 'appIsBack': 0.0, 'appIsMasterLimit': 0.0, 'appLogCode': 1023, 'appPlaceBetInfo': '::IP=49.36.90.32::browser=Chrome:: device=Desktop:: os=Windows:: latitude=0 :: longitude=0 | Mozilla-5.0 (Windows NT 10.0; Win64; x64) AppleWebKit-537.36 (KHTML, like Gecko) Chrome-121.0.0.0 Safari-537.36 :: 49.36.90.32', 'appRate': 1.0, 'appStake': 100}]]\n"
     ]
    }
   ],
   "source": [
    "\n",
    "metadata_query = {\n",
    "    \"appLogCode\": 1023 \n",
    "}\n",
    "\n",
    "\n",
    "results = collection.query(\n",
    "    query_embeddings=query_embeddings,\n",
    "    n_results=1,\n",
    "    where=metadata_query\n",
    ")\n",
    "\n",
    "#print(results)\n",
    "print(results['ids'])\n",
    "print(results['metadatas'])\n"
   ]
  },
  {
   "cell_type": "markdown",
   "id": "8b34ddc8-b6cc-4431-ac44-59e3aa9483a1",
   "metadata": {},
   "source": [
    "# Performing IN Operation "
   ]
  },
  {
   "cell_type": "code",
   "execution_count": 22,
   "id": "7a127067-9eda-471a-8acb-a66019368761",
   "metadata": {},
   "outputs": [
    {
     "name": "stdout",
     "output_type": "stream",
     "text": [
      "[['5']]\n",
      "[[{'appBetDetailID': 3058748.0, 'appBetID': 923014, 'appClientID': 58069, 'appCreatedBy': 58069, 'appDescription': 'Ball Started.', 'appIsBack': 0.0, 'appIsMasterLimit': 0.0, 'appLogCode': 1023, 'appPlaceBetInfo': '::IP=49.36.90.32::browser=Chrome:: device=Desktop:: os=Windows:: latitude=0 :: longitude=0 | Mozilla-5.0 (Windows NT 10.0; Win64; x64) AppleWebKit-537.36 (KHTML, like Gecko) Chrome-121.0.0.0 Safari-537.36 :: 49.36.90.32', 'appRate': 72.0, 'appStake': 100}]]\n"
     ]
    }
   ],
   "source": [
    "metadata_query = {\n",
    "    \"appLogCode\": {\"$in\": [1022,1023]}  \n",
    "}\n",
    "\n",
    "results = collection.query(\n",
    "    query_embeddings=query_embeddings,\n",
    "    n_results=1,\n",
    "    where=metadata_query\n",
    ")\n",
    "print(results['ids'])\n",
    "print(results['metadatas'])\n"
   ]
  },
  {
   "cell_type": "markdown",
   "id": "6a363a5a-3c1f-4114-84ac-d3e4d4ab25a5",
   "metadata": {},
   "source": [
    "# Perfroming Between Operation"
   ]
  },
  {
   "cell_type": "code",
   "execution_count": 23,
   "id": "bf4b8fae-86d2-4fc1-8c1a-863b9e2b753d",
   "metadata": {},
   "outputs": [
    {
     "name": "stdout",
     "output_type": "stream",
     "text": [
      "[['289']]\n",
      "[[{'appBetDetailID': 3343996.0, 'appBetID': 1035560, 'appClientID': 58175, 'appCreatedBy': 58175, 'appDescription': 'Odds between 20 and 30 must be in increments of 2 , Applied rate :49.970', 'appIsBack': 1.0, 'appIsMasterLimit': 0.0, 'appLogCode': 1007, 'appPlaceBetInfo': '::IP=116.72.46.201::strModel:xiaomi - Redmi Note 5 Pro,strImeino:863731045815962,strPhone:GSM - Vi India - ,strIpAdd:,strAddress:Bhathena Canal Junction, Nehru Nagar, Surat, Gujarat 395002, India,strLatitude:21.18189145,strLongitude:72.84108879 | okhttp-4.9.0 :: 116.72.46.201', 'appRate': 49.97, 'appStake': 100}]]\n"
     ]
    }
   ],
   "source": [
    "metadata_query = {\n",
    "    \"$and\": [\n",
    "        {\"appLogCode\": {\"$gte\": 1000}},\n",
    "        {\"appLogCode\": {\"$lte\": 1030}}\n",
    "    ]\n",
    "}\n",
    "\n",
    "results = collection.query(\n",
    "    query_embeddings=query_embeddings,\n",
    "    n_results=1,\n",
    "    where=metadata_query\n",
    ")\n",
    "\n",
    "print(results['ids'])\n",
    "print(results['metadatas'])\n"
   ]
  },
  {
   "cell_type": "code",
   "execution_count": null,
   "id": "aaa34b3a-72fd-4b26-92a7-ff99b1dcb8c2",
   "metadata": {},
   "outputs": [],
   "source": []
  }
 ],
 "metadata": {
  "kernelspec": {
   "display_name": "Python 3 (ipykernel)",
   "language": "python",
   "name": "python3"
  },
  "language_info": {
   "codemirror_mode": {
    "name": "ipython",
    "version": 3
   },
   "file_extension": ".py",
   "mimetype": "text/x-python",
   "name": "python",
   "nbconvert_exporter": "python",
   "pygments_lexer": "ipython3",
   "version": "3.11.7"
  }
 },
 "nbformat": 4,
 "nbformat_minor": 5
}
